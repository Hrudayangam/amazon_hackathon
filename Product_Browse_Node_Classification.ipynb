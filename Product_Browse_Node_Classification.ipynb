{
  "nbformat": 4,
  "nbformat_minor": 0,
  "metadata": {
    "colab": {
      "name": "Product Browse Node Classification.ipynb",
      "provenance": [],
      "collapsed_sections": [],
      "include_colab_link": true
    },
    "kernelspec": {
      "name": "python3",
      "display_name": "Python 3"
    },
    "language_info": {
      "name": "python"
    },
    "accelerator": "GPU"
  },
  "cells": [
    {
      "cell_type": "markdown",
      "metadata": {
        "id": "view-in-github",
        "colab_type": "text"
      },
      "source": [
        "<a href=\"https://colab.research.google.com/github/Hrudayangam/amazon_hackathon/blob/main/Product_Browse_Node_Classification.ipynb\" target=\"_parent\"><img src=\"https://colab.research.google.com/assets/colab-badge.svg\" alt=\"Open In Colab\"/></a>"
      ]
    },
    {
      "cell_type": "code",
      "metadata": {
        "colab": {
          "base_uri": "https://localhost:8080/"
        },
        "id": "ewzbopWxCXtv",
        "outputId": "45056202-cc58-4f47-f4b4-eaf851772f3e"
      },
      "source": [
        "from google.colab import drive\n",
        "drive.mount('/content/drive')"
      ],
      "execution_count": null,
      "outputs": [
        {
          "output_type": "stream",
          "text": [
            "Drive already mounted at /content/drive; to attempt to forcibly remount, call drive.mount(\"/content/drive\", force_remount=True).\n"
          ],
          "name": "stdout"
        }
      ]
    },
    {
      "cell_type": "code",
      "metadata": {
        "colab": {
          "base_uri": "https://localhost:8080/"
        },
        "id": "1pfx2YObCbFH",
        "outputId": "b5b8c7ec-cdfc-448e-8c09-0851c0ad1cee"
      },
      "source": [
        "from google.colab import drive\n",
        "drive.mount('/content/drive')\n",
        "!unzip -uq \"https://drive.google.com/drive/u/2/folders/1HrUqrmw5iKoeAsIbxwTuD9xbeD3hckGC\" -d \"/content/drive/My Drive/amazon_hackathon\""
      ],
      "execution_count": null,
      "outputs": [
        {
          "output_type": "stream",
          "text": [
            "Drive already mounted at /content/drive; to attempt to forcibly remount, call drive.mount(\"/content/drive\", force_remount=True).\n",
            "unzip:  cannot find or open https://drive.google.com/drive/u/2/folders/1HrUqrmw5iKoeAsIbxwTuD9xbeD3hckGC, https://drive.google.com/drive/u/2/folders/1HrUqrmw5iKoeAsIbxwTuD9xbeD3hckGC.zip or https://drive.google.com/drive/u/2/folders/1HrUqrmw5iKoeAsIbxwTuD9xbeD3hckGC.ZIP.\n"
          ],
          "name": "stdout"
        }
      ]
    },
    {
      "cell_type": "code",
      "metadata": {
        "id": "-B1wNFcstdaO"
      },
      "source": [
        "import pandas as pd\n",
        "import csv\n",
        "\n",
        "data = pd.read_csv(\"/content/drive/MyDrive/amazon_hackathon/train.csv\", escapechar=\"\\\\\", quoting= csv.QUOTE_NONE)"
      ],
      "execution_count": null,
      "outputs": []
    },
    {
      "cell_type": "code",
      "metadata": {
        "colab": {
          "base_uri": "https://localhost:8080/"
        },
        "id": "W4JVhdG323tC",
        "outputId": "6ba408ae-6829-485b-8d34-4fdb0695f83a"
      },
      "source": [
        "print(data.head())"
      ],
      "execution_count": null,
      "outputs": [
        {
          "output_type": "stream",
          "text": [
            "                                               TITLE  ... BROWSE_NODE_ID\n",
            "0         Pete The Cat Bedtime Blues Doll, 14.5 Inch  ...              0\n",
            "1  The New Yorker NYHM014 Refrigerator Magnet, 2 ...  ...              1\n",
            "2  The Ultimate Self-Sufficiency Handbook: A Comp...  ...              2\n",
            "3   Amway Nutrilite Kids Chewable Iron Tablets (100)  ...              3\n",
            "4  Teacher Planner Company A4 6 Lesson Academic T...  ...              4\n",
            "\n",
            "[5 rows x 5 columns]\n"
          ],
          "name": "stdout"
        }
      ]
    },
    {
      "cell_type": "code",
      "metadata": {
        "id": "UgU4AVoT3yas"
      },
      "source": [
        ""
      ],
      "execution_count": null,
      "outputs": []
    }
  ]
}